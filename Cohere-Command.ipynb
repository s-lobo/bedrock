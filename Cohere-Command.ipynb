{
 "cells": [
  {
   "cell_type": "code",
   "execution_count": 4,
   "metadata": {},
   "outputs": [
    {
     "data": {
      "text/plain": [
       "{'ResponseMetadata': {'RequestId': '3fd0b904-4e01-4683-9a11-b776df6d948e',\n",
       "  'HTTPStatusCode': 200,\n",
       "  'HTTPHeaders': {'date': 'Thu, 19 Oct 2023 22:39:00 GMT',\n",
       "   'content-type': 'application/json',\n",
       "   'content-length': '1490',\n",
       "   'connection': 'keep-alive',\n",
       "   'x-amzn-requestid': '3fd0b904-4e01-4683-9a11-b776df6d948e'},\n",
       "  'RetryAttempts': 0},\n",
       " 'contentType': 'application/json',\n",
       " 'body': <botocore.response.StreamingBody at 0x1061e0550>}"
      ]
     },
     "execution_count": 4,
     "metadata": {},
     "output_type": "execute_result"
    }
   ],
   "source": [
    "import boto3, json\n",
    "\n",
    "bedrock_runtime = boto3.client(\n",
    "    service_name='bedrock-runtime',\n",
    "    region_name='us-east-1'\n",
    ")\n",
    "\n",
    "prompt = \"Is the proto molecule real?\"\n",
    "\n",
    "kwargs = {\n",
    "  \"modelId\": \"cohere.command-text-v14\",\n",
    "  \"contentType\": \"application/json\",\n",
    "  \"accept\": \"*/*\",\n",
    "  \"body\": \"{\\\"prompt\\\":\\\"\" + prompt + \"\\\",\\\"max_tokens\\\":400,\\\"temperature\\\":0.75,\\\"p\\\":0.01,\\\"k\\\":0,\\\"stop_sequences\\\":[],\\\"return_likelihoods\\\":\\\"NONE\\\"}\"\n",
    "}\n",
    "\n",
    "response = bedrock_runtime.invoke_model(**kwargs)\n",
    "response\n"
   ]
  },
  {
   "cell_type": "code",
   "execution_count": 5,
   "metadata": {},
   "outputs": [
    {
     "data": {
      "text/plain": [
       "{'generations': [{'id': '835c9915-1325-4a2e-ad81-b8c300f7bcee',\n",
       "   'text': ' There is no scientific evidence to support the existence of a molecule called the \"proto molecule.\" The concept of a proto molecule is not widely recognized or accepted by the scientific community, and it is not mentioned in any scientific textbooks or journals.\\n\\nThe idea of a proto molecule is based on the theory that all matter is composed of fundamental particles called atoms, and that these atoms are in turn composed of subatomic particles such as protons, neutrons, and electrons. According to this theory, the protons and neutrons are held together by a force called the strong nuclear force, which is mediated by particles called mesons.\\n\\nSome scientists have proposed that the mesons may be held together by an even more fundamental particle or force, which they have called the \"proto particle\" or \"proto force.\" However, there is currently no evidence to support the existence of such a particle or force, and the idea remains speculative.\\n\\nIt\\'s important to note that new discoveries and theories are constantly being proposed in the field of particle physics, and it\\'s possible that the concept of a proto molecule or other fundamental particles may be proven correct in the future. However, until there is scientific evidence to support the existence of these particles, they remain theoretical concepts.'}],\n",
       " 'id': '3fd0b904-4e01-4683-9a11-b776df6d948e',\n",
       " 'prompt': 'Is the proto molecule real?'}"
      ]
     },
     "execution_count": 5,
     "metadata": {},
     "output_type": "execute_result"
    }
   ],
   "source": [
    "response_body = json.loads(response.get('body').read())\n",
    "response_body"
   ]
  },
  {
   "cell_type": "code",
   "execution_count": 6,
   "metadata": {},
   "outputs": [
    {
     "data": {
      "text/plain": [
       "' There is no scientific evidence to support the existence of a molecule called the \"proto molecule.\" The concept of a proto molecule is not widely recognized or accepted by the scientific community, and it is not mentioned in any scientific textbooks or journals.\\n\\nThe idea of a proto molecule is based on the theory that all matter is composed of fundamental particles called atoms, and that these atoms are in turn composed of subatomic particles such as protons, neutrons, and electrons. According to this theory, the protons and neutrons are held together by a force called the strong nuclear force, which is mediated by particles called mesons.\\n\\nSome scientists have proposed that the mesons may be held together by an even more fundamental particle or force, which they have called the \"proto particle\" or \"proto force.\" However, there is currently no evidence to support the existence of such a particle or force, and the idea remains speculative.\\n\\nIt\\'s important to note that new discoveries and theories are constantly being proposed in the field of particle physics, and it\\'s possible that the concept of a proto molecule or other fundamental particles may be proven correct in the future. However, until there is scientific evidence to support the existence of these particles, they remain theoretical concepts.'"
      ]
     },
     "execution_count": 6,
     "metadata": {},
     "output_type": "execute_result"
    }
   ],
   "source": [
    "generation = response_body.get('generations')[0].get('text')\n",
    "generation"
   ]
  }
 ],
 "metadata": {
  "kernelspec": {
   "display_name": "Python 3",
   "language": "python",
   "name": "python3"
  },
  "language_info": {
   "codemirror_mode": {
    "name": "ipython",
    "version": 3
   },
   "file_extension": ".py",
   "mimetype": "text/x-python",
   "name": "python",
   "nbconvert_exporter": "python",
   "pygments_lexer": "ipython3",
   "version": "3.11.0"
  }
 },
 "nbformat": 4,
 "nbformat_minor": 2
}
